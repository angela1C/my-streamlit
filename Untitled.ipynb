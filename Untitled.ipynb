{
 "cells": [
  {
   "cell_type": "code",
   "execution_count": null,
   "metadata": {},
   "outputs": [],
   "source": []
  },
  {
   "cell_type": "code",
   "execution_count": 2,
   "metadata": {},
   "outputs": [
    {
     "data": {
      "text/html": [
       "<div>\n",
       "<style scoped>\n",
       "    .dataframe tbody tr th:only-of-type {\n",
       "        vertical-align: middle;\n",
       "    }\n",
       "\n",
       "    .dataframe tbody tr th {\n",
       "        vertical-align: top;\n",
       "    }\n",
       "\n",
       "    .dataframe thead th {\n",
       "        text-align: right;\n",
       "    }\n",
       "</style>\n",
       "<table border=\"1\" class=\"dataframe\">\n",
       "  <thead>\n",
       "    <tr style=\"text-align: right;\">\n",
       "      <th></th>\n",
       "      <th>Statistic</th>\n",
       "      <th>Year</th>\n",
       "      <th>Make and Model</th>\n",
       "      <th>UNIT</th>\n",
       "      <th>VALUE</th>\n",
       "    </tr>\n",
       "  </thead>\n",
       "  <tbody>\n",
       "    <tr>\n",
       "      <th>0</th>\n",
       "      <td>New Private Cars Licensed for the First Time</td>\n",
       "      <td>2020</td>\n",
       "      <td>Alfa Romeo Giulietta</td>\n",
       "      <td>Number</td>\n",
       "      <td>8.0</td>\n",
       "    </tr>\n",
       "    <tr>\n",
       "      <th>1</th>\n",
       "      <td>New Private Cars Licensed for the First Time</td>\n",
       "      <td>2020</td>\n",
       "      <td>Alfa Romeo Giulia</td>\n",
       "      <td>Number</td>\n",
       "      <td>9.0</td>\n",
       "    </tr>\n",
       "    <tr>\n",
       "      <th>2</th>\n",
       "      <td>New Private Cars Licensed for the First Time</td>\n",
       "      <td>2020</td>\n",
       "      <td>Alfa Romeo Stelvio</td>\n",
       "      <td>Number</td>\n",
       "      <td>6.0</td>\n",
       "    </tr>\n",
       "    <tr>\n",
       "      <th>3</th>\n",
       "      <td>New Private Cars Licensed for the First Time</td>\n",
       "      <td>2020</td>\n",
       "      <td>Audi TT</td>\n",
       "      <td>Number</td>\n",
       "      <td>11.0</td>\n",
       "    </tr>\n",
       "    <tr>\n",
       "      <th>4</th>\n",
       "      <td>New Private Cars Licensed for the First Time</td>\n",
       "      <td>2020</td>\n",
       "      <td>Audi A3</td>\n",
       "      <td>Number</td>\n",
       "      <td>509.0</td>\n",
       "    </tr>\n",
       "  </tbody>\n",
       "</table>\n",
       "</div>"
      ],
      "text/plain": [
       "                                      Statistic  Year        Make and Model  \\\n",
       "0  New Private Cars Licensed for the First Time  2020  Alfa Romeo Giulietta   \n",
       "1  New Private Cars Licensed for the First Time  2020     Alfa Romeo Giulia   \n",
       "2  New Private Cars Licensed for the First Time  2020    Alfa Romeo Stelvio   \n",
       "3  New Private Cars Licensed for the First Time  2020               Audi TT   \n",
       "4  New Private Cars Licensed for the First Time  2020               Audi A3   \n",
       "\n",
       "     UNIT  VALUE  \n",
       "0  Number    8.0  \n",
       "1  Number    9.0  \n",
       "2  Number    6.0  \n",
       "3  Number   11.0  \n",
       "4  Number  509.0  "
      ]
     },
     "execution_count": 2,
     "metadata": {},
     "output_type": "execute_result"
    }
   ],
   "source": [
    "import pandas as pd\n",
    "cars2020 = pd.read_csv(\"TEA28.20210303T230357.csv\")\n",
    "cars2020.head()"
   ]
  },
  {
   "cell_type": "code",
   "execution_count": 3,
   "metadata": {},
   "outputs": [
    {
     "data": {
      "text/plain": [
       "<bound method DataFrame.info of                                              Statistic  Year  \\\n",
       "0         New Private Cars Licensed for the First Time  2020   \n",
       "1         New Private Cars Licensed for the First Time  2020   \n",
       "2         New Private Cars Licensed for the First Time  2020   \n",
       "3         New Private Cars Licensed for the First Time  2020   \n",
       "4         New Private Cars Licensed for the First Time  2020   \n",
       "..                                                 ...   ...   \n",
       "475  New Private Cars Licensed for the First Time Rank  2020   \n",
       "476  New Private Cars Licensed for the First Time Rank  2020   \n",
       "477  New Private Cars Licensed for the First Time Rank  2020   \n",
       "478  New Private Cars Licensed for the First Time Rank  2020   \n",
       "479  New Private Cars Licensed for the First Time Rank  2020   \n",
       "\n",
       "           Make and Model    UNIT  VALUE  \n",
       "0    Alfa Romeo Giulietta  Number    8.0  \n",
       "1       Alfa Romeo Giulia  Number    9.0  \n",
       "2      Alfa Romeo Stelvio  Number    6.0  \n",
       "3                 Audi TT  Number   11.0  \n",
       "4                 Audi A3  Number  509.0  \n",
       "..                    ...     ...    ...  \n",
       "475             Volvo S90  Number  146.0  \n",
       "476             Volvo V90  Number  158.0  \n",
       "477            Volvo XC40  Number   59.0  \n",
       "478                 Other  Number    NaN  \n",
       "479            All models  Number    NaN  \n",
       "\n",
       "[480 rows x 5 columns]>"
      ]
     },
     "execution_count": 3,
     "metadata": {},
     "output_type": "execute_result"
    }
   ],
   "source": [
    "cars2020.info"
   ]
  },
  {
   "cell_type": "code",
   "execution_count": 10,
   "metadata": {},
   "outputs": [],
   "source": [
    "cars2020.drop(['Statistic', 'UNIT'], axis=1, inplace=True)"
   ]
  },
  {
   "cell_type": "code",
   "execution_count": null,
   "metadata": {},
   "outputs": [],
   "source": []
  }
 ],
 "metadata": {
  "kernelspec": {
   "display_name": "Python 3",
   "language": "python",
   "name": "python3"
  },
  "language_info": {
   "codemirror_mode": {
    "name": "ipython",
    "version": 3
   },
   "file_extension": ".py",
   "mimetype": "text/x-python",
   "name": "python",
   "nbconvert_exporter": "python",
   "pygments_lexer": "ipython3",
   "version": "3.8.2"
  }
 },
 "nbformat": 4,
 "nbformat_minor": 4
}
